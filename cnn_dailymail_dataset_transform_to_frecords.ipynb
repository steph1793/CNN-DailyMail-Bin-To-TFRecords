{
  "nbformat": 4,
  "nbformat_minor": 0,
  "metadata": {
    "colab": {
      "name": "cnn-dailymail-dataset-transform_to_frecords.ipynb",
      "version": "0.3.2",
      "provenance": [],
      "collapsed_sections": [],
      "include_colab_link": true
    },
    "kernelspec": {
      "name": "python3",
      "display_name": "Python 3"
    }
  },
  "cells": [
    {
      "cell_type": "markdown",
      "metadata": {
        "id": "view-in-github",
        "colab_type": "text"
      },
      "source": [
        "<a href=\"https://colab.research.google.com/github/steph1793/CNN-DailyMail-Bin-To-TFRecords/blob/master/cnn_dailymail_dataset_transform_to_frecords.ipynb\" target=\"_parent\"><img src=\"https://colab.research.google.com/assets/colab-badge.svg\" alt=\"Open In Colab\"/></a>"
      ]
    },
    {
      "cell_type": "markdown",
      "metadata": {
        "id": "3YxW8jGAKgBr",
        "colab_type": "text"
      },
      "source": [
        "## Mount on your drive to use data stored "
      ]
    },
    {
      "cell_type": "code",
      "metadata": {
        "id": "UMHgwMwKKJp0",
        "colab_type": "code",
        "colab": {}
      },
      "source": [
        "from google.colab import drive\n",
        "drive.mount(\"/content/drive\")"
      ],
      "execution_count": 0,
      "outputs": []
    },
    {
      "cell_type": "code",
      "metadata": {
        "id": "q_2xuHYfL0-J",
        "colab_type": "code",
        "colab": {
          "base_uri": "https://localhost:8080/",
          "height": 34
        },
        "outputId": "034531db-dbe3-4cdd-85ba-25fee68716b6"
      },
      "source": [
        "ls"
      ],
      "execution_count": 2,
      "outputs": [
        {
          "output_type": "stream",
          "text": [
            "\u001b[0m\u001b[01;34mdrive\u001b[0m/  \u001b[01;34msample_data\u001b[0m/\n"
          ],
          "name": "stdout"
        }
      ]
    },
    {
      "cell_type": "code",
      "metadata": {
        "id": "_QTNVnXtKTEp",
        "colab_type": "code",
        "colab": {
          "base_uri": "https://localhost:8080/",
          "height": 34
        },
        "outputId": "ace40502-b07a-4511-beb7-415112f20e95"
      },
      "source": [
        "cd drive/My\\ Drive"
      ],
      "execution_count": 7,
      "outputs": [
        {
          "output_type": "stream",
          "text": [
            "/content/drive/My Drive\n"
          ],
          "name": "stdout"
        }
      ]
    },
    {
      "cell_type": "code",
      "metadata": {
        "id": "QcKa5zBkMQ8g",
        "colab_type": "code",
        "colab": {
          "base_uri": "https://localhost:8080/",
          "height": 67
        },
        "outputId": "d236f1b8-0ca9-4dab-a151-dbd1335256a2"
      },
      "source": [
        "ls"
      ],
      "execution_count": 8,
      "outputs": [
        {
          "output_type": "stream",
          "text": [
            " \u001b[0m\u001b[01;34mcnn-dailymail\u001b[0m/          \u001b[01;34mDatasets\u001b[0m/      \u001b[01;34mPointer_Generator_Summarizer\u001b[0m/\n",
            "\u001b[01;34m'Colab Notebooks'\u001b[0m/       \u001b[01;34mEvaluator\u001b[0m/     \u001b[01;34mTokenizer\u001b[0m/\n",
            "\u001b[01;34m'Colab Notebooks (1)'\u001b[0m/   \u001b[01;34mpointer_gen\u001b[0m/\n"
          ],
          "name": "stdout"
        }
      ]
    },
    {
      "cell_type": "markdown",
      "metadata": {
        "id": "3EaWQJl2OJcy",
        "colab_type": "text"
      },
      "source": [
        "## Import dependencies"
      ]
    },
    {
      "cell_type": "code",
      "metadata": {
        "id": "GHf5er1ILZdZ",
        "colab_type": "code",
        "colab": {}
      },
      "source": [
        "import ntpath\n",
        "import os\n",
        "import glob\n",
        "import struct\n",
        "import tensorflow as tf # tensorflow 1.14, 2.0.0-alpha, 2.0.0-beta1\n",
        "from tensorflow.core.example import example_pb2\n",
        "import argparse"
      ],
      "execution_count": 0,
      "outputs": []
    },
    {
      "cell_type": "markdown",
      "metadata": {
        "id": "tw_q8LIvKrKC",
        "colab_type": "text"
      },
      "source": [
        "## Code\n",
        "\n",
        "Please refer to the file in the Github repo for informations on the code (comments and documentation)\n",
        "https://github.com/steph1793/CNN-DailyMail-Bin-To-TFRecords"
      ]
    },
    {
      "cell_type": "markdown",
      "metadata": {
        "id": "EGd8GYebKvWH",
        "colab_type": "text"
      },
      "source": [
        "### Example generator"
      ]
    },
    {
      "cell_type": "code",
      "metadata": {
        "id": "6G0lqJI6Lcmr",
        "colab_type": "code",
        "colab": {}
      },
      "source": [
        "def example_generator(file):\n",
        "  \n",
        "  while True:\n",
        "    len_bytes = file.read(8)\n",
        "    if not len_bytes: break # finished reading this file\n",
        "    str_len = struct.unpack('q', len_bytes)[0]\n",
        "    example_str = struct.unpack('%ds' % str_len, file.read(str_len))[0]\n",
        "    yield example_pb2.Example.FromString(example_str)"
      ],
      "execution_count": 0,
      "outputs": []
    },
    {
      "cell_type": "code",
      "metadata": {
        "id": "nG1Ojqm3RJqR",
        "colab_type": "code",
        "colab": {}
      },
      "source": [
        "\n",
        "def art_abs_example(article, abstract):\n",
        "  \n",
        "  def _bytes_feature(value):\n",
        "    \"\"\"Returns a bytes_list from a string / byte.\"\"\"\n",
        "    if isinstance(value, type(tf.constant(0))):\n",
        "      value = value.numpy() # BytesList won't unpack a string from an EagerTensor.\n",
        "    return tf.train.Feature(bytes_list=tf.train.BytesList(value=[value.encode()]))\n",
        "\n",
        "  feature = {\n",
        "      'article': _bytes_feature(article),\n",
        "      'abstract': _bytes_feature(abstract)\n",
        "  }\n",
        "\n",
        "  return tf.train.Example(features=tf.train.Features(feature=feature))"
      ],
      "execution_count": 0,
      "outputs": []
    },
    {
      "cell_type": "markdown",
      "metadata": {
        "id": "YI5p1wAnLHiN",
        "colab_type": "text"
      },
      "source": [
        "### Main method"
      ]
    },
    {
      "cell_type": "code",
      "metadata": {
        "id": "dwog--w7LnId",
        "colab_type": "code",
        "colab": {}
      },
      "source": [
        "def make_TFRecords(data_path, new_data_path):\n",
        "  print(\"Starting ...\")\n",
        "  if not os.path.exists(new_data_path):\n",
        "    os.makedirs(new_data_path)\n",
        "  filelist = glob.glob(data_path+\"/**/*.bin\", recursive=True) # get the list of datafiles\n",
        "  assert filelist, \"No binary files\"\n",
        "  \n",
        "  common_path = os.path.commonpath(filelist)\n",
        "  files = [os.path.splitext(x.replace(common_path, \"\"))[0]  for x in filelist]\n",
        "  \n",
        "  for f, filename in zip(filelist, files):\n",
        "    try:\n",
        "      file =  open(f, 'rb')\n",
        "    except:\n",
        "      print(\"Cannot open file : {}\".format(f))\n",
        "      continue\n",
        "     \n",
        "    record_file = '{}/{}.tfrecords'.format(new_data_path, filename)\n",
        "    record_dir = os.path.dirname(record_file)\n",
        "    if not os.path.exists(record_dir):\n",
        "      os.makedirs(record_dir)\n",
        "    with tf.io.TFRecordWriter(record_file) as writer:\n",
        "      for e in example_generator(file):\n",
        "        try:\n",
        "          article_text = e.features.feature['article'].bytes_list.value[0].decode()\n",
        "          abstract_text = e.features.feature['abstract'].bytes_list.value[0].decode()\n",
        "          \n",
        "          tf_example = art_abs_example(article_text, abstract_text)\n",
        "          writer.write(tf_example.SerializeToString())\n",
        "\n",
        "        except ValueError:\n",
        "          tf.logging.error('Failed to get article or abstract from example')\n",
        "          continue\n",
        "        if len(article_text) == 0   :\n",
        "          tf.logging.warning('Found an example with empty article text. Skipping it.')\n",
        "          \n",
        "    print(\"Chunked file {} processed and saved to {}\".format(f, record_file))"
      ],
      "execution_count": 0,
      "outputs": []
    },
    {
      "cell_type": "markdown",
      "metadata": {
        "id": "wu5-89uDLJhJ",
        "colab_type": "text"
      },
      "source": [
        "## Use case"
      ]
    },
    {
      "cell_type": "code",
      "metadata": {
        "id": "E0hoP6I2LKKd",
        "colab_type": "code",
        "colab": {}
      },
      "source": [
        "data_path = \"pointer_gen/cnn-dailymail/finished_files/test\"\n",
        "new_data_path = \"tfrecords_folder\""
      ],
      "execution_count": 0,
      "outputs": []
    },
    {
      "cell_type": "code",
      "metadata": {
        "id": "3Tf0fxpHLbSW",
        "colab_type": "code",
        "colab": {
          "base_uri": "https://localhost:8080/",
          "height": 101
        },
        "outputId": "cd4560a2-87a9-4375-8de5-5024520a8461"
      },
      "source": [
        "make_TFRecords(data_path, new_data_path)"
      ],
      "execution_count": 16,
      "outputs": [
        {
          "output_type": "stream",
          "text": [
            "Starting ...\n",
            "Chunked file pointer_gen/cnn-dailymail/finished_files/test/test_001.bin processed and saved to tfrecords_folder//test_001.tfrecords\n",
            "Chunked file pointer_gen/cnn-dailymail/finished_files/test/test_000.bin processed and saved to tfrecords_folder//test_000.tfrecords\n",
            "Chunked file pointer_gen/cnn-dailymail/finished_files/test/test2/test_002.bin processed and saved to tfrecords_folder//test2/test_002.tfrecords\n",
            "Chunked file pointer_gen/cnn-dailymail/finished_files/test/test3/test_003.bin processed and saved to tfrecords_folder//test3/test_003.tfrecords\n"
          ],
          "name": "stdout"
        }
      ]
    },
    {
      "cell_type": "code",
      "metadata": {
        "id": "9Q3f-WW2Lik-",
        "colab_type": "code",
        "colab": {
          "base_uri": "https://localhost:8080/",
          "height": 34
        },
        "outputId": "22dd9b5d-f00b-41cd-fc0e-77000b03ccea"
      },
      "source": [
        "ls $new_data_path"
      ],
      "execution_count": 18,
      "outputs": [
        {
          "output_type": "stream",
          "text": [
            "test_000.tfrecords  test_001.tfrecords  \u001b[0m\u001b[01;34mtest2\u001b[0m/  \u001b[01;34mtest3\u001b[0m/\n"
          ],
          "name": "stdout"
        }
      ]
    }
  ]
}